{
 "cells": [
  {
   "cell_type": "markdown",
   "metadata": {},
   "source": [
    "*By Fabian Collas and Ekhine Irurozi*"
   ]
  },
  {
   "cell_type": "code",
   "execution_count": 11,
   "metadata": {},
   "outputs": [],
   "source": [
    "import os \n",
    "os.chdir('/home/fcollas/Documents/mallows_kendall_code/')\n",
    "import mallows_kendall_comments as mk\n",
    "import importlib\n",
    "import numpy as np \n",
    "import scipy as sp\n",
    "import seaborn as sns\n",
    "import matplotlib.pyplot as plt\n",
    "import pandas as pd "
   ]
  },
  {
   "cell_type": "markdown",
   "metadata": {},
   "source": [
    "## Permutations"
   ]
  },
  {
   "cell_type": "markdown",
   "metadata": {},
   "source": [
    "**Generation** The most basic function consists of generating permutations. The permutations are coded as vectors of the first $n$ natural numbers (beginning with 0 here in python) where each item appears once and once only.   \n",
    "Complete permutations can be defined here as ndarrays with dtype int or lists of integers as well.  \n",
    "They can be defined by hand as follows:"
   ]
  },
  {
   "cell_type": "code",
   "execution_count": 3,
   "metadata": {},
   "outputs": [
    {
     "data": {
      "text/plain": [
       "[3, 1, 2, 0, 4]"
      ]
     },
     "execution_count": 3,
     "metadata": {},
     "output_type": "execute_result"
    }
   ],
   "source": [
    "perm1 = [3,1,2,0,4]\n",
    "perm1"
   ]
  },
  {
   "cell_type": "markdown",
   "metadata": {},
   "source": [
    "or similarly: "
   ]
  },
  {
   "cell_type": "code",
   "execution_count": 4,
   "metadata": {},
   "outputs": [
    {
     "data": {
      "text/plain": [
       "array([3, 1, 2, 0, 4])"
      ]
     },
     "execution_count": 4,
     "metadata": {},
     "output_type": "execute_result"
    }
   ],
   "source": [
    "perm1 = np.array([3,1,2,0,4])\n",
    "perm1"
   ]
  },
  {
   "cell_type": "markdown",
   "metadata": {},
   "source": [
    "They can also be randomly generated as follows ($n$ being the length of the permutation): "
   ]
  },
  {
   "cell_type": "code",
   "execution_count": 5,
   "metadata": {},
   "outputs": [
    {
     "data": {
      "text/plain": [
       "array([0, 3, 1, 2, 4])"
      ]
     },
     "execution_count": 5,
     "metadata": {},
     "output_type": "execute_result"
    }
   ],
   "source": [
    "n=5\n",
    "perm2 = np.random.permutation(n)\n",
    "perm2"
   ]
  },
  {
   "cell_type": "markdown",
   "metadata": {},
   "source": [
    "**Operations** Two permutations can be composed and the result is a permutation "
   ]
  },
  {
   "cell_type": "code",
   "execution_count": 6,
   "metadata": {},
   "outputs": [
    {
     "data": {
      "text/plain": [
       "array([3, 0, 1, 2, 4])"
      ]
     },
     "execution_count": 6,
     "metadata": {},
     "output_type": "execute_result"
    }
   ],
   "source": [
    "mk.compose(perm1, perm2)"
   ]
  },
  {
   "cell_type": "markdown",
   "metadata": {},
   "source": [
    "The inverse of a permutation can also be obtained with:"
   ]
  },
  {
   "cell_type": "code",
   "execution_count": 7,
   "metadata": {},
   "outputs": [
    {
     "data": {
      "text/plain": [
       "array([3, 1, 2, 0, 4])"
      ]
     },
     "execution_count": 7,
     "metadata": {},
     "output_type": "execute_result"
    }
   ],
   "source": [
    "mk.inverse(perm1)"
   ]
  },
  {
   "cell_type": "markdown",
   "metadata": {},
   "source": [
    "## Distances"
   ]
  },
  {
   "cell_type": "markdown",
   "metadata": {},
   "source": [
    "The Kendall's-$\\tau$ distance $d_k(\\sigma\\pi^{-1})$ counts the number of pairwise disagreements beetween $\\sigma$ and $\\pi$, i.e., the number of pairs of positions in which the items are in a particular order in $\\sigma$, and the reverse order in $\\pi$. The Kendall's-$\\tau$ distance between two permutations can be computed as follows: "
   ]
  },
  {
   "cell_type": "code",
   "execution_count": 8,
   "metadata": {},
   "outputs": [
    {
     "data": {
      "text/plain": [
       "5"
      ]
     },
     "execution_count": 8,
     "metadata": {},
     "output_type": "execute_result"
    }
   ],
   "source": [
    "mk.kendallTau(perm1, perm2)"
   ]
  },
  {
   "cell_type": "markdown",
   "metadata": {},
   "source": [
    "If only one permutation is given in input, it will be assumed that the second permutation is the identity permutation."
   ]
  },
  {
   "cell_type": "code",
   "execution_count": 9,
   "metadata": {},
   "outputs": [
    {
     "data": {
      "text/plain": [
       "5"
      ]
     },
     "execution_count": 9,
     "metadata": {},
     "output_type": "execute_result"
    }
   ],
   "source": [
    "mk.kendallTau(perm1)"
   ]
  },
  {
   "cell_type": "markdown",
   "metadata": {},
   "source": [
    "The maximum value of the kendall's-$\\tau$ distance between two permutation of length $n$ is $\\frac{n(n-1)}{2}$. It is possible to get this value using the following function: "
   ]
  },
  {
   "cell_type": "code",
   "execution_count": 10,
   "metadata": {},
   "outputs": [
    {
     "data": {
      "text/plain": [
       "10"
      ]
     },
     "execution_count": 10,
     "metadata": {},
     "output_type": "execute_result"
    }
   ],
   "source": [
    "mk.max_dist(n)"
   ]
  },
  {
   "cell_type": "markdown",
   "metadata": {},
   "source": [
    "## Mallows Models (MM) and Generalized Mallows Models (GMM) for permutations"
   ]
  },
  {
   "cell_type": "markdown",
   "metadata": {},
   "source": [
    "## Mallows Models"
   ]
  },
  {
   "cell_type": "markdown",
   "metadata": {},
   "source": [
    "### A FINIR \n",
    "MALLOWS MODEL PRESENTATION ...  \n",
    "It is possible to sample the Mallows Model, given the dispersion parameter of the model. The sampling function always generates the samples considering $\\sigma_0 = e$ the identity permutation. In order to change the central permutation it is then necessary to compute each permutation of the sample with a chosen permutation $\\sigma_0$ different from the identity."
   ]
  },
  {
   "cell_type": "code",
   "execution_count": 27,
   "metadata": {},
   "outputs": [],
   "source": [
    "m = 6000\n",
    "n = 5\n",
    "theta_MM = 0.1\n",
    "identity = np.array(range(n))\n",
    "sample_MM = np.array(mk.samplingMM(m,n,theta_MM))"
   ]
  },
  {
   "cell_type": "markdown",
   "metadata": {},
   "source": [
    "Then Borda algorithm allows to approximate the central permutation:  "
   ]
  },
  {
   "cell_type": "code",
   "execution_count": 28,
   "metadata": {},
   "outputs": [
    {
     "data": {
      "text/plain": [
       "array([0, 1, 2, 3, 4])"
      ]
     },
     "execution_count": 28,
     "metadata": {},
     "output_type": "execute_result"
    }
   ],
   "source": [
    "mk.borda(sample_MM)"
   ]
  },
  {
   "cell_type": "markdown",
   "metadata": {},
   "source": [
    "The probability of each permutation from a sample is computed according to formula: \n",
    "$$p(\\sigma)=\\dfrac{exp(-\\theta d_k(\\sigma \\sigma_0^{-1}))}{\\psi(\\theta)}$$ \n",
    "with $\\psi(\\theta) =  \\prod\\limits_{\\substack{j=1}}^{n-1} \\frac{1-exp(-\\theta(n-j+1))}{1 - exp(-\\theta)}$"
   ]
  },
  {
   "cell_type": "code",
   "execution_count": 29,
   "metadata": {},
   "outputs": [
    {
     "data": {
      "text/plain": [
       "array([0.00816179, 0.00668231, 0.00902018, ..., 0.0073851 , 0.00996884,\n",
       "       0.01101727])"
      ]
     },
     "execution_count": 29,
     "metadata": {},
     "output_type": "execute_result"
    }
   ],
   "source": [
    "mk.prob_sample(sample_MM, identity, theta_MM)"
   ]
  },
  {
   "cell_type": "markdown",
   "metadata": {},
   "source": [
    "The expected value of Kendaall's-$\\tau$ distance under the MM is given by: \n",
    "$$E_{\\theta}[d_k] = \\frac{n \\, exp(-\\theta)}{1 - exp(-\\theta)} - \\sum\\limits_{j=1}^n\\frac{j \\, exp(-j \\theta)}{1 - exp(-j \\theta)}$$"
   ]
  },
  {
   "cell_type": "code",
   "execution_count": 39,
   "metadata": {},
   "outputs": [
    {
     "data": {
      "text/plain": [
       "4.584679366752994"
      ]
     },
     "execution_count": 39,
     "metadata": {},
     "output_type": "execute_result"
    }
   ],
   "source": [
    "expected_dist = mk.expected_dist_MM(n, theta_MM)\n",
    "expected_dist"
   ]
  },
  {
   "cell_type": "markdown",
   "metadata": {},
   "source": [
    "The average distance of the permutations of the sample to the consensus permutation : $$\\bar{d} = \\frac{1}{m}\\sum_{i=1}^md_k(\\sigma_i\\sigma_0^{-1})$$\n",
    "is computed as follow: "
   ]
  },
  {
   "cell_type": "code",
   "execution_count": 63,
   "metadata": {},
   "outputs": [
    {
     "data": {
      "text/plain": [
       "4.586166666666666"
      ]
     },
     "execution_count": 63,
     "metadata": {},
     "output_type": "execute_result"
    }
   ],
   "source": [
    "avg_dist = np.mean(np.array([mk.kendallTau(identity, perm) for perm in sample_MM]))\n",
    "avg_dist"
   ]
  },
  {
   "cell_type": "markdown",
   "metadata": {},
   "source": [
    "Theoritically the Maximum Likelihood Estimator (MLE) of $\\theta$ verifies $E_\\theta[d_k] = \\bar{d}$. First it can be verified that the values computed previously are consistent with this result: "
   ]
  },
  {
   "cell_type": "code",
   "execution_count": 59,
   "metadata": {},
   "outputs": [
    {
     "name": "stdout",
     "output_type": "stream",
     "text": [
      "-0.0014872999136725795\n"
     ]
    }
   ],
   "source": [
    "print(expected_dist - avg_dist)"
   ]
  },
  {
   "cell_type": "markdown",
   "metadata": {},
   "source": [
    "Then using $E_\\theta[d_k] = \\bar{d}$, the MLE of $\\theta$ is estimated by the fitting function for MM: `fit_MM` (which returns the value of $\\phi$ dispersion parameter). The same function also returns the estimator for the consensus permutation, computed according to Borda's algorithm: "
   ]
  },
  {
   "cell_type": "code",
   "execution_count": 34,
   "metadata": {},
   "outputs": [
    {
     "name": "stdout",
     "output_type": "stream",
     "text": [
      "[0 1 2 3 4]\n",
      "0.9133457420575463\n"
     ]
    }
   ],
   "source": [
    "sigma_borda, phi_MM_MLE = mk.fit_MM(sampleMM)\n",
    "print(sigma_borda)\n",
    "print(phi_MM_MLE)"
   ]
  },
  {
   "cell_type": "markdown",
   "metadata": {},
   "source": [
    "In order to have $\\theta$ rather than $\\phi$ for the dispersion parmeter MLE, it can be computed as follows: "
   ]
  },
  {
   "cell_type": "code",
   "execution_count": 36,
   "metadata": {},
   "outputs": [
    {
     "data": {
      "text/plain": [
       "0.09064078216602862"
      ]
     },
     "execution_count": 36,
     "metadata": {},
     "output_type": "execute_result"
    }
   ],
   "source": [
    "theta_MM_MLE = mk.phi2theta(phi_MM_MLE)\n",
    "theta_MM_MLE"
   ]
  },
  {
   "cell_type": "code",
   "execution_count": 38,
   "metadata": {},
   "outputs": [
    {
     "data": {
      "text/plain": [
       "4.623333333333356"
      ]
     },
     "execution_count": 38,
     "metadata": {},
     "output_type": "execute_result"
    }
   ],
   "source": [
    "expected_dist_theta_MM_MLE = mk.expected_dist_MM(n, theta_MM_MLE)\n",
    "expected_dist_theta_MM_MLE"
   ]
  },
  {
   "cell_type": "markdown",
   "metadata": {},
   "source": [
    "The estimation of parameters $\\sigma_0$ and $\\theta$ is evaluated with the relative error formula:\n",
    "$$\\dfrac{\\mathcal{\\bar{L}} - \\mathcal{L}_0}{m\\mathcal{\\bar{L}}}$$\n",
    "where $\\mathcal{\\bar{L}}$ is the log-likehood given by the estimated parameters and $\\mathcal{L}_0$ is the likelihood given by the value of the parameters used to generate the sample.  \n",
    "Using mallows_kendall package it can be computed as follows:"
   ]
  },
  {
   "cell_type": "code",
   "execution_count": 36,
   "metadata": {},
   "outputs": [],
   "source": [
    "likelihood_bar = mk.likelihood_mm(sample, fit[0], fit[1])\n",
    "likelihood_0 = mk.likelihood_mm(sample, identity, 0.1)"
   ]
  },
  {
   "cell_type": "code",
   "execution_count": 38,
   "metadata": {},
   "outputs": [],
   "source": [
    "relative_error = (likelihood_bar - likelihood_0)/(m*likelihood_bar)"
   ]
  },
  {
   "cell_type": "code",
   "execution_count": 46,
   "metadata": {},
   "outputs": [
    {
     "data": {
      "text/plain": [
       "0.0004518028069562388"
      ]
     },
     "execution_count": 46,
     "metadata": {},
     "output_type": "execute_result"
    }
   ],
   "source": [
    "relative_error"
   ]
  },
  {
   "cell_type": "markdown",
   "metadata": {},
   "source": [
    "## where to insert VARIANCE ??"
   ]
  },
  {
   "cell_type": "code",
   "execution_count": 41,
   "metadata": {},
   "outputs": [
    {
     "data": {
      "text/plain": [
       "4.126419794736876"
      ]
     },
     "execution_count": 41,
     "metadata": {},
     "output_type": "execute_result"
    }
   ],
   "source": [
    "mk.variance_dist_MM(n, theta_MM)"
   ]
  },
  {
   "cell_type": "code",
   "execution_count": 66,
   "metadata": {},
   "outputs": [
    {
     "data": {
      "text/plain": [
       "4.153908638888889"
      ]
     },
     "execution_count": 66,
     "metadata": {},
     "output_type": "execute_result"
    }
   ],
   "source": [
    "variance = np.mean(np.array([pow(mk.kendallTau(identity, perm) - avg_dist, 2) for perm in sample_MM]))\n",
    "variance"
   ]
  },
  {
   "cell_type": "markdown",
   "metadata": {},
   "source": [
    "## Generalized Mallows Models "
   ]
  },
  {
   "cell_type": "markdown",
   "metadata": {},
   "source": [
    "### A FINIR \n",
    "\n",
    "It is also possible to sample the Generalized Mallows Models (GMM). In the package it is quite similar as for the classical Mallows Models, only that the dispersion parameter will be given as a list. "
   ]
  },
  {
   "cell_type": "code",
   "execution_count": 46,
   "metadata": {},
   "outputs": [],
   "source": [
    "m = 4000\n",
    "n = 5\n",
    "theta_GMM = [0.1,0.2,0.6,0.3]\n",
    "identity = np.array(range(n))\n",
    "sample_GMM = np.array(mk.samplingGMM(m,theta_GMM))"
   ]
  },
  {
   "cell_type": "markdown",
   "metadata": {},
   "source": [
    "In the GMM the expected value of each $V_j(\\sigma)$ is used to estimate the parameters. The formula is the following:\n",
    "$$ E_\\theta[V_j] = \\frac{exp(-\\theta_j)}{1 - exp(-\\theta_j)} - \\frac{(n-j+1)exp(-\\theta_j(n-j+1))}{1 - exp(-\\theta_j(n-j+1))}, \\;\\forall j \\in \\{1, \\dotsc, n-1\\}  $$\n",
    "And the values are computed as follows:"
   ]
  },
  {
   "cell_type": "code",
   "execution_count": 53,
   "metadata": {},
   "outputs": [
    {
     "name": "stdout",
     "output_type": "stream",
     "text": [
      "[1.80086153 1.25279068 0.62226834 0.42555748]\n"
     ]
    }
   ],
   "source": [
    "expected_V_GMM = mk.expected_V(n, theta_GMM)\n",
    "print(expected_V_GMM)"
   ]
  },
  {
   "cell_type": "markdown",
   "metadata": {},
   "source": [
    "The average decomposition vector is determined with the formula: $$ \\bar{V_j} = \\frac{1}{m}\\sum\\limits_{i=1}^m V_j(\\sigma_i\\sigma_0^{-1}), \\;\\forall j \\in \\{1, \\dotsc, n-1\\}$$\n",
    "And is computed as follows in the package:"
   ]
  },
  {
   "cell_type": "code",
   "execution_count": 57,
   "metadata": {},
   "outputs": [
    {
     "name": "stdout",
     "output_type": "stream",
     "text": [
      "[1.812   1.25825 0.609   0.4175 ]\n"
     ]
    }
   ],
   "source": [
    "v_avg = mk.v_avg(sample_GMM) \n",
    "print(v_avg)"
   ]
  },
  {
   "cell_type": "code",
   "execution_count": 58,
   "metadata": {},
   "outputs": [
    {
     "data": {
      "text/plain": [
       "array([-0.01113847, -0.00545932,  0.01326834,  0.00805748])"
      ]
     },
     "execution_count": 58,
     "metadata": {},
     "output_type": "execute_result"
    }
   ],
   "source": [
    "expected_V_GMM - v_avg"
   ]
  },
  {
   "cell_type": "markdown",
   "metadata": {},
   "source": [
    "As for the MM the MLE for the dispersion parameters $\\theta_j$ are obtained by approximition of the solution of equations: $\\bar{V_j} = E_\\theta[V_j]$. "
   ]
  },
  {
   "cell_type": "code",
   "execution_count": 50,
   "metadata": {},
   "outputs": [
    {
     "name": "stdout",
     "output_type": "stream",
     "text": [
      "[2 1 0 3 4]\n",
      "[0.094362173973987, 0.19548617251197292, 0.6238240981340246, 0.33304464114894267]\n"
     ]
    }
   ],
   "source": [
    "sigma_borda, theta_GMM_MLE = mk.fit_GMM(sample_GMM)\n",
    "print(sigma_borda)\n",
    "print(theta_GMM_MLE)"
   ]
  },
  {
   "cell_type": "markdown",
   "metadata": {},
   "source": [
    "Variance"
   ]
  },
  {
   "cell_type": "code",
   "execution_count": 68,
   "metadata": {},
   "outputs": [
    {
     "data": {
      "text/plain": [
       "array([1.97425609, 1.20855956, 0.56066479, 0.24445831])"
      ]
     },
     "execution_count": 68,
     "metadata": {},
     "output_type": "execute_result"
    }
   ],
   "source": [
    "mk.variance_V(n, theta_GMM)"
   ]
  },
  {
   "cell_type": "code",
   "execution_count": 70,
   "metadata": {},
   "outputs": [
    {
     "data": {
      "text/plain": [
       "[2.058656, 1.2040569375, 0.5391189999999999, 0.24319374999999996]"
      ]
     },
     "execution_count": 70,
     "metadata": {},
     "output_type": "execute_result"
    }
   ],
   "source": [
    "variances_sample_GMM = [np.mean([pow(mk.ranking2v(sigma)[j] - v_avg[j], 2) for sigma in sample_GMM]) for j in range(n-1)]\n",
    "variances_sample_GMM"
   ]
  },
  {
   "cell_type": "markdown",
   "metadata": {},
   "source": [
    "# Partial permutations "
   ]
  },
  {
   "cell_type": "markdown",
   "metadata": {},
   "source": [
    "Finally it is possible to work with partial permutations, where there are elements for which the ordering is not defined.   \n",
    "*EXPLAIN* difference between ordering (= top-k list) and ranking"
   ]
  },
  {
   "cell_type": "markdown",
   "metadata": {},
   "source": [
    "An ordering $\\alpha \\in A$ can be sampled as follows: "
   ]
  },
  {
   "cell_type": "code",
   "execution_count": 8,
   "metadata": {},
   "outputs": [
    {
     "data": {
      "text/plain": [
       "array([ 3.,  5.,  4., nan, nan, nan, nan, nan, nan, nan])"
      ]
     },
     "execution_count": 8,
     "metadata": {},
     "output_type": "execute_result"
    }
   ],
   "source": [
    "m = 1\n",
    "n = 10 \n",
    "k = 3\n",
    "phi = 0.9 \n",
    "sigma = np.random.permutation(n)\n",
    "alpha = mk.samplingMM(m=m,n=n,phi=phi,k=k) [0]\n",
    "alpha"
   ]
  },
  {
   "cell_type": "markdown",
   "metadata": {},
   "source": [
    "It is possible to obtain the ranking $\\beta \\in B$ corresponding to a given ordering with the following function:"
   ]
  },
  {
   "cell_type": "code",
   "execution_count": 13,
   "metadata": {},
   "outputs": [
    {
     "data": {
      "text/plain": [
       "array([nan, nan, nan,  0.,  2.,  1., nan, nan, nan, nan])"
      ]
     },
     "execution_count": 13,
     "metadata": {},
     "output_type": "execute_result"
    }
   ],
   "source": [
    "beta = mk.alpha2beta(alpha,k)\n",
    "beta"
   ]
  },
  {
   "cell_type": "markdown",
   "metadata": {},
   "source": [
    "For partial permutations, special distances are used. Here different alternatives to Kendall's-$\\tau$ are used for ordering and ranking. It is defined such that $d(\\alpha) = d(\\beta) = d(\\sigma, \\beta\\sigma)$ given $\\sigma$ any full permutation. However $d(\\sigma, \\alpha\\sigma)$ cannot be verified."
   ]
  },
  {
   "cell_type": "code",
   "execution_count": 19,
   "metadata": {},
   "outputs": [
    {
     "name": "stdout",
     "output_type": "stream",
     "text": [
      "d(alpha) = d(beta) ? True\n",
      "d(beta) = d(sigma, beta sigma) ? True\n"
     ]
    }
   ],
   "source": [
    "print(\"d(alpha) = d(beta) ?\", mk.distAlpha(alpha, k)== mk.distBeta(beta))\n",
    "print(\"d(beta) = d(sigma, beta sigma) ?\",mk.distBeta(beta)== mk.distBeta(mk.compose(beta, sigma), sigma))"
   ]
  },
  {
   "cell_type": "markdown",
   "metadata": {},
   "source": [
    "The expected distance and the variance can be checked ..."
   ]
  },
  {
   "cell_type": "code",
   "execution_count": 21,
   "metadata": {},
   "outputs": [
    {
     "name": "stdout",
     "output_type": "stream",
     "text": [
      "variance, model and sample 19.246666483533858 19.24938396\n"
     ]
    },
    {
     "data": {
      "image/png": "[encoded data removed]",
      "text/plain": [
       "<Figure size 432x288 with 1 Axes>"
      ]
     },
     "metadata": {
      "needs_background": "light"
     },
     "output_type": "display_data"
    }
   ],
   "source": [
    "dists = []\n",
    "mm=5000\n",
    "for s in range(mm):\n",
    "    alpha = mk.samplingMM(m=1,n=n,phi=phi,k=k) [0]\n",
    "    dists.append(mk.distAlpha(alpha, k))\n",
    "means = np.cumsum(dists) / np.arange(1, mm + 1)\n",
    "expected_dist = np.sum(mk.expected_V(n,theta=None, phi=phi,k=k))\n",
    "plt.plot(means)\n",
    "plt.plot([0,mm],[expected_dist, expected_dist])\n",
    "print(\"variance, model and sample\",np.sum(mk.variance_V(n,theta=None, phi=phi,k=k)), np.std(dists)**2)"
   ]
  },
  {
   "cell_type": "code",
   "execution_count": null,
   "metadata": {},
   "outputs": [],
   "source": []
  },
  {
   "cell_type": "code",
   "execution_count": 17,
   "metadata": {},
   "outputs": [
    {
     "data": {
      "text/plain": [
       "<module 'mallows_kendall_comments' from '/home/fcollas/Documents/mallows_kendall_code/mallows_kendall_comments.py'>"
      ]
     },
     "execution_count": 17,
     "metadata": {},
     "output_type": "execute_result"
    }
   ],
   "source": [
    "from imp import reload\n",
    "reload(mk)"
   ]
  },
  {
   "cell_type": "code",
   "execution_count": null,
   "metadata": {},
   "outputs": [],
   "source": []
  }
 ],
 "metadata": {
  "kernelspec": {
   "display_name": "Python 3",
   "language": "python",
   "name": "python3"
  },
  "language_info": {
   "codemirror_mode": {
    "name": "ipython",
    "version": 3
   },
   "file_extension": ".py",
   "mimetype": "text/x-python",
   "name": "python",
   "nbconvert_exporter": "python",
   "pygments_lexer": "ipython3",
   "version": "3.6.3"
  }
 },
 "nbformat": 4,
 "nbformat_minor": 4
}
